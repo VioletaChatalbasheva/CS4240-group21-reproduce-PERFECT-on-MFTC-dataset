{
 "cells": [
  {
   "cell_type": "code",
   "execution_count": 1,
   "metadata": {},
   "outputs": [],
   "source": [
    "import pandas as pd\n",
    "import numpy as np"
   ]
  },
  {
   "cell_type": "code",
   "execution_count": 2,
   "metadata": {},
   "outputs": [],
   "source": [
    "df=pd.read_csv('MFTC.csv')"
   ]
  },
  {
   "cell_type": "code",
   "execution_count": 3,
   "metadata": {},
   "outputs": [],
   "source": [
    "from sklearn.model_selection import train_test_split\n",
    "import json"
   ]
  },
  {
   "attachments": {},
   "cell_type": "markdown",
   "metadata": {},
   "source": [
    "## Create combined labels and train,test split"
   ]
  },
  {
   "cell_type": "code",
   "execution_count": 4,
   "metadata": {},
   "outputs": [],
   "source": [
    "df[\"classes\"]=df.iloc[:,2:].astype(str).apply(\" \".join, axis=1)"
   ]
  },
  {
   "cell_type": "code",
   "execution_count": 5,
   "metadata": {},
   "outputs": [],
   "source": [
    "df[\"classLabels\"]=pd.Categorical(df['classes']).codes"
   ]
  },
  {
   "cell_type": "code",
   "execution_count": 6,
   "metadata": {},
   "outputs": [],
   "source": [
    "train,test=train_test_split(df,test_size=0.25,random_state=42)"
   ]
  },
  {
   "attachments": {},
   "cell_type": "markdown",
   "metadata": {},
   "source": [
    "## Save as json in label,text format"
   ]
  },
  {
   "cell_type": "code",
   "execution_count": 8,
   "metadata": {},
   "outputs": [],
   "source": [
    "# Create a list to store the data\n",
    "data = []\n",
    "\n",
    "# Iterate over each row in the dataframe\n",
    "for index, row in train.iterrows():\n",
    "    # Create a dictionary to store the row data\n",
    "    row_data = {}\n",
    "    row_data[\"label\"] = str(row[\"classLabels\"])\n",
    "    row_data[\"source\"] = str(row[\"text\"])\n",
    "    \n",
    "    # Add the row data to the list\n",
    "    data.append(row_data)\n",
    "\n",
    "# Convert the list to a JSON string\n",
    "json_data = \"\"\n",
    "for row_data in data:\n",
    "    json_data += json.dumps(row_data) + \"\\n\"\n",
    "\n",
    "# Write the JSON string to a file\n",
    "with open(\"train.json\", \"w\") as f:\n",
    "    f.write(json_data)"
   ]
  },
  {
   "attachments": {},
   "cell_type": "markdown",
   "metadata": {},
   "source": [
    "## Create verbalizers for labels"
   ]
  },
  {
   "cell_type": "code",
   "execution_count": null,
   "metadata": {},
   "outputs": [],
   "source": [
    "for i in range(len(df)):\n",
    "    #print(df.iloc[i,:])\n",
    "    name=\"\"\n",
    "    for j in range(2,13):\n",
    "        if df.iloc[i,j]:\n",
    "            name+=\",\"+df.columns[j]\n",
    "    df[\"verbalizers\"][i]=name[1:]"
   ]
  },
  {
   "cell_type": "code",
   "execution_count": 41,
   "metadata": {},
   "outputs": [
    {
     "data": {
      "text/plain": [
       "149"
      ]
     },
     "execution_count": 41,
     "metadata": {},
     "output_type": "execute_result"
    }
   ],
   "source": [
    "len(df[\"verbalizers\"].unique())"
   ]
  },
  {
   "cell_type": "code",
   "execution_count": 46,
   "metadata": {},
   "outputs": [],
   "source": [
    "df=df.sort_values(by=\"classLabels\")"
   ]
  },
  {
   "cell_type": "code",
   "execution_count": 48,
   "metadata": {},
   "outputs": [
    {
     "data": {
      "text/plain": [
       "array(['harm', 'authority', 'authority,harm', 'subversion',\n",
       "       'subversion,harm', 'subversion,authority',\n",
       "       'subversion,authority,harm', 'betrayal', 'betrayal,harm',\n",
       "       'betrayal,authority', 'betrayal,subversion',\n",
       "       'betrayal,subversion,harm', 'cheating', 'cheating,harm',\n",
       "       'cheating,authority', 'cheating,authority,harm',\n",
       "       'cheating,subversion', 'cheating,subversion,harm',\n",
       "       'cheating,subversion,authority', 'cheating,betrayal',\n",
       "       'cheating,betrayal,harm', 'cheating,betrayal,subversion',\n",
       "       'cheating,betrayal,subversion,harm', 'care', 'care,harm',\n",
       "       'care,authority', 'care,subversion', 'care,betrayal',\n",
       "       'care,betrayal,harm', 'care,betrayal,authority', 'care,cheating',\n",
       "       'care,cheating,harm', 'care,cheating,subversion', 'loyalty',\n",
       "       'loyalty,harm', 'loyalty,authority', 'loyalty,authority,harm',\n",
       "       'loyalty,subversion', 'loyalty,subversion,harm',\n",
       "       'loyalty,subversion,authority', 'loyalty,betrayal',\n",
       "       'loyalty,betrayal,harm', 'loyalty,betrayal,authority',\n",
       "       'loyalty,betrayal,subversion', 'loyalty,cheating',\n",
       "       'loyalty,cheating,harm', 'loyalty,cheating,subversion',\n",
       "       'loyalty,cheating,betrayal', 'loyalty,care', 'loyalty,care,harm',\n",
       "       'loyalty,care,authority', 'loyalty,care,betrayal',\n",
       "       'loyalty,care,cheating', 'degradation', 'degradation,harm',\n",
       "       'degradation,authority', 'degradation,authority,harm',\n",
       "       'degradation,subversion', 'degradation,subversion,harm',\n",
       "       'degradation,subversion,authority', 'degradation,betrayal',\n",
       "       'degradation,betrayal,harm', 'degradation,betrayal,subversion',\n",
       "       'degradation,betrayal,subversion,harm', 'degradation,cheating',\n",
       "       'degradation,cheating,harm', 'degradation,cheating,subversion',\n",
       "       'degradation,cheating,subversion,harm',\n",
       "       'degradation,cheating,betrayal',\n",
       "       'degradation,cheating,betrayal,harm',\n",
       "       'degradation,cheating,betrayal,authority',\n",
       "       'degradation,cheating,betrayal,subversion', 'degradation,care',\n",
       "       'degradation,care,harm', 'degradation,care,subversion',\n",
       "       'degradation,loyalty', 'degradation,loyalty,authority',\n",
       "       'degradation,loyalty,subversion', 'degradation,loyalty,betrayal',\n",
       "       'degradation,loyalty,betrayal,subversion', 'purity', 'purity,harm',\n",
       "       'purity,authority', 'purity,subversion', 'purity,betrayal',\n",
       "       'purity,cheating', 'purity,cheating,harm',\n",
       "       'purity,cheating,betrayal', 'purity,care', 'purity,care,harm',\n",
       "       'purity,care,authority', 'purity,care,subversion',\n",
       "       'purity,loyalty', 'purity,loyalty,harm',\n",
       "       'purity,loyalty,authority', 'purity,loyalty,betrayal,authority',\n",
       "       'purity,loyalty,betrayal,subversion',\n",
       "       'purity,loyalty,cheating,subversion', 'purity,loyalty,care',\n",
       "       'purity,degradation', 'purity,degradation,harm',\n",
       "       'purity,degradation,authority', 'purity,degradation,subversion',\n",
       "       'purity,degradation,cheating',\n",
       "       'purity,degradation,care,authority,harm',\n",
       "       'purity,degradation,loyalty', 'purity,degradation,loyalty,care',\n",
       "       'non-moral', 'fairness', 'fairness,harm', 'fairness,authority',\n",
       "       'fairness,subversion', 'fairness,subversion,harm',\n",
       "       'fairness,subversion,authority', 'fairness,betrayal',\n",
       "       'fairness,betrayal,authority', 'fairness,betrayal,subversion',\n",
       "       'fairness,betrayal,subversion,authority', 'fairness,cheating',\n",
       "       'fairness,cheating,harm', 'fairness,cheating,authority',\n",
       "       'fairness,cheating,subversion',\n",
       "       'fairness,cheating,subversion,authority',\n",
       "       'fairness,cheating,betrayal', 'fairness,care',\n",
       "       'fairness,care,authority', 'fairness,care,subversion',\n",
       "       'fairness,care,cheating,subversion', 'fairness,loyalty',\n",
       "       'fairness,loyalty,authority', 'fairness,loyalty,subversion',\n",
       "       'fairness,loyalty,betrayal',\n",
       "       'fairness,loyalty,betrayal,subversion,harm',\n",
       "       'fairness,loyalty,cheating',\n",
       "       'fairness,loyalty,cheating,subversion', 'fairness,loyalty,care',\n",
       "       'fairness,loyalty,care,authority',\n",
       "       'fairness,loyalty,care,subversion', 'fairness,degradation',\n",
       "       'fairness,degradation,harm', 'fairness,degradation,subversion',\n",
       "       'fairness,degradation,cheating,subversion', 'fairness,purity',\n",
       "       'fairness,purity,harm', 'fairness,purity,authority',\n",
       "       'fairness,purity,care', 'fairness,purity,care,authority',\n",
       "       'fairness,purity,care,subversion', 'fairness,purity,loyalty'],\n",
       "      dtype=object)"
      ]
     },
     "execution_count": 48,
     "metadata": {},
     "output_type": "execute_result"
    }
   ],
   "source": [
    "df[\"verbalizers\"].unique()"
   ]
  }
 ],
 "metadata": {
  "kernelspec": {
   "display_name": "drlenv",
   "language": "python",
   "name": "python3"
  },
  "language_info": {
   "codemirror_mode": {
    "name": "ipython",
    "version": 3
   },
   "file_extension": ".py",
   "mimetype": "text/x-python",
   "name": "python",
   "nbconvert_exporter": "python",
   "pygments_lexer": "ipython3",
   "version": "3.9.15"
  },
  "orig_nbformat": 4
 },
 "nbformat": 4,
 "nbformat_minor": 2
}
